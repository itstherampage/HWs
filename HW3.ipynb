{
  "nbformat": 4,
  "nbformat_minor": 0,
  "metadata": {
    "colab": {
      "name": "Copy of HW3.ipynb",
      "provenance": [],
      "include_colab_link": true
    },
    "kernelspec": {
      "name": "python3",
      "display_name": "Python 3"
    },
    "language_info": {
      "name": "python"
    }
  },
  "cells": [
    {
      "cell_type": "markdown",
      "metadata": {
        "id": "view-in-github",
        "colab_type": "text"
      },
      "source": [
        "<a href=\"https://colab.research.google.com/github/itstherampage/HWs/blob/main/HW3.ipynb\" target=\"_parent\"><img src=\"https://colab.research.google.com/assets/colab-badge.svg\" alt=\"Open In Colab\"/></a>"
      ]
    },
    {
      "cell_type": "code",
      "source": [
        "from google.colab import drive\n",
        "drive.mount('/content/drive')"
      ],
      "metadata": {
        "colab": {
          "base_uri": "https://localhost:8080/"
        },
        "id": "b0O97to_FRhR",
        "outputId": "3cf431e0-ee92-447e-ac57-a6146f3a07f9"
      },
      "execution_count": 5,
      "outputs": [
        {
          "output_type": "stream",
          "name": "stdout",
          "text": [
            "Mounted at /content/drive\n"
          ]
        }
      ]
    },
    {
      "cell_type": "markdown",
      "source": [
        "Please see examples we did in class. Questions are just variations of what we did earlier. "
      ],
      "metadata": {
        "id": "c37DlYNi3HaS"
      }
    },
    {
      "cell_type": "markdown",
      "source": [
        "**Q1**. Please read WorldCupMatches.csv to a data frame to proceed"
      ],
      "metadata": {
        "id": "Hmx--bdJfpU_"
      }
    },
    {
      "cell_type": "code",
      "source": [
        "import pandas as pd\n",
        "import matplotlib.pyplot as plt\n",
        "import seaborn as sns\n",
        "df = pd.read_csv('/content/drive/MyDrive/DATA/WorldCupMatches.csv')\n",
        "df\n"
      ],
      "metadata": {
        "colab": {
          "base_uri": "https://localhost:8080/",
          "height": 884
        },
        "id": "rlIhhyF_XRHl",
        "outputId": "a757bcf2-63ba-49ac-d5de-e40b1ab20cd2"
      },
      "execution_count": 6,
      "outputs": [
        {
          "output_type": "execute_result",
          "data": {
            "text/plain": [
              "     Year              Datetime                     Stage  \\\n",
              "0    1930  13 Jul 1930 - 15:00                    Group 1   \n",
              "1    1930  13 Jul 1930 - 15:00                    Group 4   \n",
              "2    1930  14 Jul 1930 - 12:45                    Group 2   \n",
              "3    1930  14 Jul 1930 - 14:50                    Group 3   \n",
              "4    1930  15 Jul 1930 - 16:00                    Group 1   \n",
              "..    ...                   ...                       ...   \n",
              "847  2014  05 Jul 2014 - 17:00             Quarter-finals   \n",
              "848  2014  08 Jul 2014 - 17:00                Semi-finals   \n",
              "849  2014  09 Jul 2014 - 17:00                Semi-finals   \n",
              "850  2014  12 Jul 2014 - 17:00   Play-off for third place   \n",
              "851  2014  13 Jul 2014 - 16:00                      Final   \n",
              "\n",
              "                 Stadium             City Home Team Name  Home Team Goals  \\\n",
              "0                Pocitos      Montevideo          France                4   \n",
              "1         Parque Central      Montevideo             USA                3   \n",
              "2         Parque Central      Montevideo      Yugoslavia                2   \n",
              "3                Pocitos      Montevideo         Romania                3   \n",
              "4         Parque Central      Montevideo       Argentina                1   \n",
              "..                   ...              ...            ...              ...   \n",
              "847     Arena Fonte Nova        Salvador     Netherlands                0   \n",
              "848     Estadio Mineirao  Belo Horizonte          Brazil                1   \n",
              "849   Arena de Sao Paulo       Sao Paulo     Netherlands                0   \n",
              "850     Estadio Nacional        Brasilia          Brazil                0   \n",
              "851  Estadio do Maracana  Rio De Janeiro         Germany                1   \n",
              "\n",
              "     Away Team Goals Away Team Name                         Win conditions  \\\n",
              "0                  1         Mexico                                          \n",
              "1                  0        Belgium                                          \n",
              "2                  1         Brazil                                          \n",
              "3                  1           Peru                                          \n",
              "4                  0         France                                          \n",
              "..               ...            ...                                    ...   \n",
              "847                0     Costa Rica  Netherlands win on penalties (4 - 3)    \n",
              "848                7        Germany                                          \n",
              "849                0      Argentina    Argentina win on penalties (2 - 4)    \n",
              "850                3    Netherlands                                          \n",
              "851                0      Argentina          Germany win after extra time    \n",
              "\n",
              "     Attendance  Half-time Home Goals  Half-time Away Goals  \\\n",
              "0        4444.0                     3                     0   \n",
              "1       18346.0                     2                     0   \n",
              "2       24059.0                     2                     0   \n",
              "3        2549.0                     1                     0   \n",
              "4       23409.0                     0                     0   \n",
              "..          ...                   ...                   ...   \n",
              "847     51179.0                     0                     0   \n",
              "848     58141.0                     0                     5   \n",
              "849     63267.0                     0                     0   \n",
              "850     68034.0                     0                     2   \n",
              "851     74738.0                     0                     0   \n",
              "\n",
              "                    Referee                  Assistant 1  \\\n",
              "0    LOMBARDI Domingo (URU)        CRISTOPHE Henry (BEL)   \n",
              "1         MACIAS Jose (ARG)     MATEUCCI Francisco (URU)   \n",
              "2       TEJADA Anibal (URU)      VALLARINO Ricardo (URU)   \n",
              "3     WARNKEN Alberto (CHI)          LANGENUS Jean (BEL)   \n",
              "4       REGO Gilberto (BRA)         SAUCEDO Ulises (BOL)   \n",
              "..                      ...                          ...   \n",
              "847   Ravshan IRMATOV (UZB)  RASULOV Abduxamidullo (UZB)   \n",
              "848   RODRIGUEZ Marco (MEX)      TORRENTERA Marvin (MEX)   \n",
              "849      C�neyt �AKIR (TUR)         DURAN Bahattin (TUR)   \n",
              "850   HAIMOUDI Djamel (ALG)         ACHIK Redouane (MAR)   \n",
              "851    Nicola RIZZOLI (ITA)        Renato FAVERANI (ITA)   \n",
              "\n",
              "                    Assistant 2  RoundID    MatchID Home Team Initials  \\\n",
              "0           REGO Gilberto (BRA)      201       1096                FRA   \n",
              "1         WARNKEN Alberto (CHI)      201       1090                USA   \n",
              "2           BALWAY Thomas (FRA)      201       1093                YUG   \n",
              "3      MATEUCCI Francisco (URU)      201       1098                ROU   \n",
              "4    RADULESCU Constantin (ROU)      201       1085                ARG   \n",
              "..                          ...      ...        ...                ...   \n",
              "847    KOCHKAROV Bakhadyr (KGZ)   255953  300186488                NED   \n",
              "848       QUINTERO Marcos (MEX)   255955  300186474                BRA   \n",
              "849           ONGUN Tarik (TUR)   255955  300186490                NED   \n",
              "850     ETCHIALI Abdelhak (ALG)   255957  300186502                BRA   \n",
              "851        Andrea STEFANI (ITA)   255959  300186501                GER   \n",
              "\n",
              "    Away Team Initials  \n",
              "0                  MEX  \n",
              "1                  BEL  \n",
              "2                  BRA  \n",
              "3                  PER  \n",
              "4                  FRA  \n",
              "..                 ...  \n",
              "847                CRC  \n",
              "848                GER  \n",
              "849                ARG  \n",
              "850                NED  \n",
              "851                ARG  \n",
              "\n",
              "[852 rows x 20 columns]"
            ],
            "text/html": [
              "\n",
              "  <div id=\"df-6f8fd9f8-04de-4791-b728-a98c08a05186\">\n",
              "    <div class=\"colab-df-container\">\n",
              "      <div>\n",
              "<style scoped>\n",
              "    .dataframe tbody tr th:only-of-type {\n",
              "        vertical-align: middle;\n",
              "    }\n",
              "\n",
              "    .dataframe tbody tr th {\n",
              "        vertical-align: top;\n",
              "    }\n",
              "\n",
              "    .dataframe thead th {\n",
              "        text-align: right;\n",
              "    }\n",
              "</style>\n",
              "<table border=\"1\" class=\"dataframe\">\n",
              "  <thead>\n",
              "    <tr style=\"text-align: right;\">\n",
              "      <th></th>\n",
              "      <th>Year</th>\n",
              "      <th>Datetime</th>\n",
              "      <th>Stage</th>\n",
              "      <th>Stadium</th>\n",
              "      <th>City</th>\n",
              "      <th>Home Team Name</th>\n",
              "      <th>Home Team Goals</th>\n",
              "      <th>Away Team Goals</th>\n",
              "      <th>Away Team Name</th>\n",
              "      <th>Win conditions</th>\n",
              "      <th>Attendance</th>\n",
              "      <th>Half-time Home Goals</th>\n",
              "      <th>Half-time Away Goals</th>\n",
              "      <th>Referee</th>\n",
              "      <th>Assistant 1</th>\n",
              "      <th>Assistant 2</th>\n",
              "      <th>RoundID</th>\n",
              "      <th>MatchID</th>\n",
              "      <th>Home Team Initials</th>\n",
              "      <th>Away Team Initials</th>\n",
              "    </tr>\n",
              "  </thead>\n",
              "  <tbody>\n",
              "    <tr>\n",
              "      <th>0</th>\n",
              "      <td>1930</td>\n",
              "      <td>13 Jul 1930 - 15:00</td>\n",
              "      <td>Group 1</td>\n",
              "      <td>Pocitos</td>\n",
              "      <td>Montevideo</td>\n",
              "      <td>France</td>\n",
              "      <td>4</td>\n",
              "      <td>1</td>\n",
              "      <td>Mexico</td>\n",
              "      <td></td>\n",
              "      <td>4444.0</td>\n",
              "      <td>3</td>\n",
              "      <td>0</td>\n",
              "      <td>LOMBARDI Domingo (URU)</td>\n",
              "      <td>CRISTOPHE Henry (BEL)</td>\n",
              "      <td>REGO Gilberto (BRA)</td>\n",
              "      <td>201</td>\n",
              "      <td>1096</td>\n",
              "      <td>FRA</td>\n",
              "      <td>MEX</td>\n",
              "    </tr>\n",
              "    <tr>\n",
              "      <th>1</th>\n",
              "      <td>1930</td>\n",
              "      <td>13 Jul 1930 - 15:00</td>\n",
              "      <td>Group 4</td>\n",
              "      <td>Parque Central</td>\n",
              "      <td>Montevideo</td>\n",
              "      <td>USA</td>\n",
              "      <td>3</td>\n",
              "      <td>0</td>\n",
              "      <td>Belgium</td>\n",
              "      <td></td>\n",
              "      <td>18346.0</td>\n",
              "      <td>2</td>\n",
              "      <td>0</td>\n",
              "      <td>MACIAS Jose (ARG)</td>\n",
              "      <td>MATEUCCI Francisco (URU)</td>\n",
              "      <td>WARNKEN Alberto (CHI)</td>\n",
              "      <td>201</td>\n",
              "      <td>1090</td>\n",
              "      <td>USA</td>\n",
              "      <td>BEL</td>\n",
              "    </tr>\n",
              "    <tr>\n",
              "      <th>2</th>\n",
              "      <td>1930</td>\n",
              "      <td>14 Jul 1930 - 12:45</td>\n",
              "      <td>Group 2</td>\n",
              "      <td>Parque Central</td>\n",
              "      <td>Montevideo</td>\n",
              "      <td>Yugoslavia</td>\n",
              "      <td>2</td>\n",
              "      <td>1</td>\n",
              "      <td>Brazil</td>\n",
              "      <td></td>\n",
              "      <td>24059.0</td>\n",
              "      <td>2</td>\n",
              "      <td>0</td>\n",
              "      <td>TEJADA Anibal (URU)</td>\n",
              "      <td>VALLARINO Ricardo (URU)</td>\n",
              "      <td>BALWAY Thomas (FRA)</td>\n",
              "      <td>201</td>\n",
              "      <td>1093</td>\n",
              "      <td>YUG</td>\n",
              "      <td>BRA</td>\n",
              "    </tr>\n",
              "    <tr>\n",
              "      <th>3</th>\n",
              "      <td>1930</td>\n",
              "      <td>14 Jul 1930 - 14:50</td>\n",
              "      <td>Group 3</td>\n",
              "      <td>Pocitos</td>\n",
              "      <td>Montevideo</td>\n",
              "      <td>Romania</td>\n",
              "      <td>3</td>\n",
              "      <td>1</td>\n",
              "      <td>Peru</td>\n",
              "      <td></td>\n",
              "      <td>2549.0</td>\n",
              "      <td>1</td>\n",
              "      <td>0</td>\n",
              "      <td>WARNKEN Alberto (CHI)</td>\n",
              "      <td>LANGENUS Jean (BEL)</td>\n",
              "      <td>MATEUCCI Francisco (URU)</td>\n",
              "      <td>201</td>\n",
              "      <td>1098</td>\n",
              "      <td>ROU</td>\n",
              "      <td>PER</td>\n",
              "    </tr>\n",
              "    <tr>\n",
              "      <th>4</th>\n",
              "      <td>1930</td>\n",
              "      <td>15 Jul 1930 - 16:00</td>\n",
              "      <td>Group 1</td>\n",
              "      <td>Parque Central</td>\n",
              "      <td>Montevideo</td>\n",
              "      <td>Argentina</td>\n",
              "      <td>1</td>\n",
              "      <td>0</td>\n",
              "      <td>France</td>\n",
              "      <td></td>\n",
              "      <td>23409.0</td>\n",
              "      <td>0</td>\n",
              "      <td>0</td>\n",
              "      <td>REGO Gilberto (BRA)</td>\n",
              "      <td>SAUCEDO Ulises (BOL)</td>\n",
              "      <td>RADULESCU Constantin (ROU)</td>\n",
              "      <td>201</td>\n",
              "      <td>1085</td>\n",
              "      <td>ARG</td>\n",
              "      <td>FRA</td>\n",
              "    </tr>\n",
              "    <tr>\n",
              "      <th>...</th>\n",
              "      <td>...</td>\n",
              "      <td>...</td>\n",
              "      <td>...</td>\n",
              "      <td>...</td>\n",
              "      <td>...</td>\n",
              "      <td>...</td>\n",
              "      <td>...</td>\n",
              "      <td>...</td>\n",
              "      <td>...</td>\n",
              "      <td>...</td>\n",
              "      <td>...</td>\n",
              "      <td>...</td>\n",
              "      <td>...</td>\n",
              "      <td>...</td>\n",
              "      <td>...</td>\n",
              "      <td>...</td>\n",
              "      <td>...</td>\n",
              "      <td>...</td>\n",
              "      <td>...</td>\n",
              "      <td>...</td>\n",
              "    </tr>\n",
              "    <tr>\n",
              "      <th>847</th>\n",
              "      <td>2014</td>\n",
              "      <td>05 Jul 2014 - 17:00</td>\n",
              "      <td>Quarter-finals</td>\n",
              "      <td>Arena Fonte Nova</td>\n",
              "      <td>Salvador</td>\n",
              "      <td>Netherlands</td>\n",
              "      <td>0</td>\n",
              "      <td>0</td>\n",
              "      <td>Costa Rica</td>\n",
              "      <td>Netherlands win on penalties (4 - 3)</td>\n",
              "      <td>51179.0</td>\n",
              "      <td>0</td>\n",
              "      <td>0</td>\n",
              "      <td>Ravshan IRMATOV (UZB)</td>\n",
              "      <td>RASULOV Abduxamidullo (UZB)</td>\n",
              "      <td>KOCHKAROV Bakhadyr (KGZ)</td>\n",
              "      <td>255953</td>\n",
              "      <td>300186488</td>\n",
              "      <td>NED</td>\n",
              "      <td>CRC</td>\n",
              "    </tr>\n",
              "    <tr>\n",
              "      <th>848</th>\n",
              "      <td>2014</td>\n",
              "      <td>08 Jul 2014 - 17:00</td>\n",
              "      <td>Semi-finals</td>\n",
              "      <td>Estadio Mineirao</td>\n",
              "      <td>Belo Horizonte</td>\n",
              "      <td>Brazil</td>\n",
              "      <td>1</td>\n",
              "      <td>7</td>\n",
              "      <td>Germany</td>\n",
              "      <td></td>\n",
              "      <td>58141.0</td>\n",
              "      <td>0</td>\n",
              "      <td>5</td>\n",
              "      <td>RODRIGUEZ Marco (MEX)</td>\n",
              "      <td>TORRENTERA Marvin (MEX)</td>\n",
              "      <td>QUINTERO Marcos (MEX)</td>\n",
              "      <td>255955</td>\n",
              "      <td>300186474</td>\n",
              "      <td>BRA</td>\n",
              "      <td>GER</td>\n",
              "    </tr>\n",
              "    <tr>\n",
              "      <th>849</th>\n",
              "      <td>2014</td>\n",
              "      <td>09 Jul 2014 - 17:00</td>\n",
              "      <td>Semi-finals</td>\n",
              "      <td>Arena de Sao Paulo</td>\n",
              "      <td>Sao Paulo</td>\n",
              "      <td>Netherlands</td>\n",
              "      <td>0</td>\n",
              "      <td>0</td>\n",
              "      <td>Argentina</td>\n",
              "      <td>Argentina win on penalties (2 - 4)</td>\n",
              "      <td>63267.0</td>\n",
              "      <td>0</td>\n",
              "      <td>0</td>\n",
              "      <td>C�neyt �AKIR (TUR)</td>\n",
              "      <td>DURAN Bahattin (TUR)</td>\n",
              "      <td>ONGUN Tarik (TUR)</td>\n",
              "      <td>255955</td>\n",
              "      <td>300186490</td>\n",
              "      <td>NED</td>\n",
              "      <td>ARG</td>\n",
              "    </tr>\n",
              "    <tr>\n",
              "      <th>850</th>\n",
              "      <td>2014</td>\n",
              "      <td>12 Jul 2014 - 17:00</td>\n",
              "      <td>Play-off for third place</td>\n",
              "      <td>Estadio Nacional</td>\n",
              "      <td>Brasilia</td>\n",
              "      <td>Brazil</td>\n",
              "      <td>0</td>\n",
              "      <td>3</td>\n",
              "      <td>Netherlands</td>\n",
              "      <td></td>\n",
              "      <td>68034.0</td>\n",
              "      <td>0</td>\n",
              "      <td>2</td>\n",
              "      <td>HAIMOUDI Djamel (ALG)</td>\n",
              "      <td>ACHIK Redouane (MAR)</td>\n",
              "      <td>ETCHIALI Abdelhak (ALG)</td>\n",
              "      <td>255957</td>\n",
              "      <td>300186502</td>\n",
              "      <td>BRA</td>\n",
              "      <td>NED</td>\n",
              "    </tr>\n",
              "    <tr>\n",
              "      <th>851</th>\n",
              "      <td>2014</td>\n",
              "      <td>13 Jul 2014 - 16:00</td>\n",
              "      <td>Final</td>\n",
              "      <td>Estadio do Maracana</td>\n",
              "      <td>Rio De Janeiro</td>\n",
              "      <td>Germany</td>\n",
              "      <td>1</td>\n",
              "      <td>0</td>\n",
              "      <td>Argentina</td>\n",
              "      <td>Germany win after extra time</td>\n",
              "      <td>74738.0</td>\n",
              "      <td>0</td>\n",
              "      <td>0</td>\n",
              "      <td>Nicola RIZZOLI (ITA)</td>\n",
              "      <td>Renato FAVERANI (ITA)</td>\n",
              "      <td>Andrea STEFANI (ITA)</td>\n",
              "      <td>255959</td>\n",
              "      <td>300186501</td>\n",
              "      <td>GER</td>\n",
              "      <td>ARG</td>\n",
              "    </tr>\n",
              "  </tbody>\n",
              "</table>\n",
              "<p>852 rows × 20 columns</p>\n",
              "</div>\n",
              "      <button class=\"colab-df-convert\" onclick=\"convertToInteractive('df-6f8fd9f8-04de-4791-b728-a98c08a05186')\"\n",
              "              title=\"Convert this dataframe to an interactive table.\"\n",
              "              style=\"display:none;\">\n",
              "        \n",
              "  <svg xmlns=\"http://www.w3.org/2000/svg\" height=\"24px\"viewBox=\"0 0 24 24\"\n",
              "       width=\"24px\">\n",
              "    <path d=\"M0 0h24v24H0V0z\" fill=\"none\"/>\n",
              "    <path d=\"M18.56 5.44l.94 2.06.94-2.06 2.06-.94-2.06-.94-.94-2.06-.94 2.06-2.06.94zm-11 1L8.5 8.5l.94-2.06 2.06-.94-2.06-.94L8.5 2.5l-.94 2.06-2.06.94zm10 10l.94 2.06.94-2.06 2.06-.94-2.06-.94-.94-2.06-.94 2.06-2.06.94z\"/><path d=\"M17.41 7.96l-1.37-1.37c-.4-.4-.92-.59-1.43-.59-.52 0-1.04.2-1.43.59L10.3 9.45l-7.72 7.72c-.78.78-.78 2.05 0 2.83L4 21.41c.39.39.9.59 1.41.59.51 0 1.02-.2 1.41-.59l7.78-7.78 2.81-2.81c.8-.78.8-2.07 0-2.86zM5.41 20L4 18.59l7.72-7.72 1.47 1.35L5.41 20z\"/>\n",
              "  </svg>\n",
              "      </button>\n",
              "      \n",
              "  <style>\n",
              "    .colab-df-container {\n",
              "      display:flex;\n",
              "      flex-wrap:wrap;\n",
              "      gap: 12px;\n",
              "    }\n",
              "\n",
              "    .colab-df-convert {\n",
              "      background-color: #E8F0FE;\n",
              "      border: none;\n",
              "      border-radius: 50%;\n",
              "      cursor: pointer;\n",
              "      display: none;\n",
              "      fill: #1967D2;\n",
              "      height: 32px;\n",
              "      padding: 0 0 0 0;\n",
              "      width: 32px;\n",
              "    }\n",
              "\n",
              "    .colab-df-convert:hover {\n",
              "      background-color: #E2EBFA;\n",
              "      box-shadow: 0px 1px 2px rgba(60, 64, 67, 0.3), 0px 1px 3px 1px rgba(60, 64, 67, 0.15);\n",
              "      fill: #174EA6;\n",
              "    }\n",
              "\n",
              "    [theme=dark] .colab-df-convert {\n",
              "      background-color: #3B4455;\n",
              "      fill: #D2E3FC;\n",
              "    }\n",
              "\n",
              "    [theme=dark] .colab-df-convert:hover {\n",
              "      background-color: #434B5C;\n",
              "      box-shadow: 0px 1px 3px 1px rgba(0, 0, 0, 0.15);\n",
              "      filter: drop-shadow(0px 1px 2px rgba(0, 0, 0, 0.3));\n",
              "      fill: #FFFFFF;\n",
              "    }\n",
              "  </style>\n",
              "\n",
              "      <script>\n",
              "        const buttonEl =\n",
              "          document.querySelector('#df-6f8fd9f8-04de-4791-b728-a98c08a05186 button.colab-df-convert');\n",
              "        buttonEl.style.display =\n",
              "          google.colab.kernel.accessAllowed ? 'block' : 'none';\n",
              "\n",
              "        async function convertToInteractive(key) {\n",
              "          const element = document.querySelector('#df-6f8fd9f8-04de-4791-b728-a98c08a05186');\n",
              "          const dataTable =\n",
              "            await google.colab.kernel.invokeFunction('convertToInteractive',\n",
              "                                                     [key], {});\n",
              "          if (!dataTable) return;\n",
              "\n",
              "          const docLinkHtml = 'Like what you see? Visit the ' +\n",
              "            '<a target=\"_blank\" href=https://colab.research.google.com/notebooks/data_table.ipynb>data table notebook</a>'\n",
              "            + ' to learn more about interactive tables.';\n",
              "          element.innerHTML = '';\n",
              "          dataTable['output_type'] = 'display_data';\n",
              "          await google.colab.output.renderOutput(dataTable, element);\n",
              "          const docLink = document.createElement('div');\n",
              "          docLink.innerHTML = docLinkHtml;\n",
              "          element.appendChild(docLink);\n",
              "        }\n",
              "      </script>\n",
              "    </div>\n",
              "  </div>\n",
              "  "
            ]
          },
          "metadata": {},
          "execution_count": 6
        }
      ]
    },
    {
      "cell_type": "markdown",
      "source": [
        "**Q2** Using seaborn's displot draw density curves to show the distributions of Home Team Goals for every year. "
      ],
      "metadata": {
        "id": "T4yhidlieOpS"
      }
    },
    {
      "cell_type": "code",
      "execution_count": 7,
      "metadata": {
        "id": "pVaLN_OFXJBl",
        "colab": {
          "base_uri": "https://localhost:8080/",
          "height": 387
        },
        "outputId": "a84dd70c-ab71-41fd-8474-16b36cadd83d"
      },
      "outputs": [
        {
          "output_type": "execute_result",
          "data": {
            "text/plain": [
              "<seaborn.axisgrid.FacetGrid at 0x7f01cc73ce10>"
            ]
          },
          "metadata": {},
          "execution_count": 7
        },
        {
          "output_type": "display_data",
          "data": {
            "text/plain": [
              "<Figure size 360x360 with 1 Axes>"
            ],
            "image/png": "[encoded data removed]"
          },
          "metadata": {
            "needs_background": "light"
          }
        }
      ],
      "source": [
        "sns.displot(data=df, x=\"Year\", y=\"Home Team Goals\")"
      ]
    },
    {
      "cell_type": "markdown",
      "source": [
        "**Q3** Draw violin plots to summarize Home Team Goals distributions for each year by using seaborn. Notice that labels are really cluttered. Then please refer to the earlier notebooks to have labels to appear on only select years which end with 0. You can use ax handle to call ax.set_xticklables(labels) for the labels your prepared."
      ],
      "metadata": {
        "id": "3ZTG_xVeeS-V"
      }
    },
    {
      "cell_type": "code",
      "source": [
        "labels=[y if y%10==0 else None for y in list(df.Year.unique())]\n",
        "ax = sns.violinplot(data=df, x=\"Year\", y=\"Home Team Goals\")\n",
        "ax.set_xticklabels(labels)\n",
        "\n",
        "\n"
      ],
      "metadata": {
        "id": "yZv0MHIXXdhM",
        "colab": {
          "base_uri": "https://localhost:8080/",
          "height": 648
        },
        "outputId": "392201ad-be40-4505-d48a-dedc4a359f85"
      },
      "execution_count": 8,
      "outputs": [
        {
          "output_type": "execute_result",
          "data": {
            "text/plain": [
              "[Text(0, 0, '1930'),\n",
              " Text(0, 0, ''),\n",
              " Text(0, 0, ''),\n",
              " Text(0, 0, '1950'),\n",
              " Text(0, 0, ''),\n",
              " Text(0, 0, ''),\n",
              " Text(0, 0, ''),\n",
              " Text(0, 0, ''),\n",
              " Text(0, 0, '1970'),\n",
              " Text(0, 0, ''),\n",
              " Text(0, 0, ''),\n",
              " Text(0, 0, ''),\n",
              " Text(0, 0, ''),\n",
              " Text(0, 0, '1990'),\n",
              " Text(0, 0, ''),\n",
              " Text(0, 0, ''),\n",
              " Text(0, 0, ''),\n",
              " Text(0, 0, ''),\n",
              " Text(0, 0, '2010'),\n",
              " Text(0, 0, '')]"
            ]
          },
          "metadata": {},
          "execution_count": 8
        },
        {
          "output_type": "display_data",
          "data": {
            "text/plain": [
              "<Figure size 432x288 with 1 Axes>"
            ],
            "image/png": "[encoded data removed]"
          },
          "metadata": {
            "needs_background": "light"
          }
        }
      ]
    },
    {
      "cell_type": "markdown",
      "source": [
        "**Q4** Please install joypy. Then visualize distributions for Home Team Goals and Away Team Goals' for each year. Once you visualize, please add  plt.style.use('seaborn-white') to see how colors change in your second run. Please also add the legend which you can find from the function prototype.\n",
        "\n"
      ],
      "metadata": {
        "id": "pd56iF7eeVki"
      }
    },
    {
      "cell_type": "code",
      "source": [
        "!pip install joypy"
      ],
      "metadata": {
        "colab": {
          "base_uri": "https://localhost:8080/"
        },
        "id": "qq0Zb8PxZGqe",
        "outputId": "da30c269-ab85-4859-ab0a-6ca4bdcdf70f"
      },
      "execution_count": 9,
      "outputs": [
        {
          "output_type": "stream",
          "name": "stdout",
          "text": [
            "Looking in indexes: https://pypi.org/simple, https://us-python.pkg.dev/colab-wheels/public/simple/\n",
            "Collecting joypy\n",
            "  Downloading joypy-0.2.6-py2.py3-none-any.whl (8.6 kB)\n",
            "Requirement already satisfied: matplotlib in /usr/local/lib/python3.7/dist-packages (from joypy) (3.2.2)\n",
            "Requirement already satisfied: numpy>=1.16.5 in /usr/local/lib/python3.7/dist-packages (from joypy) (1.21.6)\n",
            "Requirement already satisfied: pandas>=0.20.0 in /usr/local/lib/python3.7/dist-packages (from joypy) (1.3.5)\n",
            "Requirement already satisfied: scipy>=0.11.0 in /usr/local/lib/python3.7/dist-packages (from joypy) (1.7.3)\n",
            "Requirement already satisfied: python-dateutil>=2.7.3 in /usr/local/lib/python3.7/dist-packages (from pandas>=0.20.0->joypy) (2.8.2)\n",
            "Requirement already satisfied: pytz>=2017.3 in /usr/local/lib/python3.7/dist-packages (from pandas>=0.20.0->joypy) (2022.1)\n",
            "Requirement already satisfied: six>=1.5 in /usr/local/lib/python3.7/dist-packages (from python-dateutil>=2.7.3->pandas>=0.20.0->joypy) (1.15.0)\n",
            "Requirement already satisfied: cycler>=0.10 in /usr/local/lib/python3.7/dist-packages (from matplotlib->joypy) (0.11.0)\n",
            "Requirement already satisfied: kiwisolver>=1.0.1 in /usr/local/lib/python3.7/dist-packages (from matplotlib->joypy) (1.4.4)\n",
            "Requirement already satisfied: pyparsing!=2.0.4,!=2.1.2,!=2.1.6,>=2.0.1 in /usr/local/lib/python3.7/dist-packages (from matplotlib->joypy) (3.0.9)\n",
            "Requirement already satisfied: typing-extensions in /usr/local/lib/python3.7/dist-packages (from kiwisolver>=1.0.1->matplotlib->joypy) (4.1.1)\n",
            "Installing collected packages: joypy\n",
            "Successfully installed joypy-0.2.6\n"
          ]
        }
      ]
    },
    {
      "cell_type": "code",
      "source": [
        "import joypy as jp\n",
        "plt.style.use('seaborn-white')\n",
        "jp.joyplot(data=df, by=\"Year\", column=[\"Home Team Goals\", \"Away Team Goals\"] , legend=True)\n",
        "#jp.joyplot(data=df, by=\"Year\", column=\"Away Team Goals\", legend=True)\n",
        "\n"
      ],
      "metadata": {
        "id": "5bsXe8TtY2bc",
        "colab": {
          "base_uri": "https://localhost:8080/",
          "height": 699
        },
        "outputId": "22593104-7dc4-47f3-c0f5-b2eef6b09426"
      },
      "execution_count": 15,
      "outputs": [
        {
          "output_type": "execute_result",
          "data": {
            "text/plain": [
              "(<Figure size 432x288 with 21 Axes>,\n",
              " [<matplotlib.axes._subplots.AxesSubplot at 0x7f01c5221590>,\n",
              "  <matplotlib.axes._subplots.AxesSubplot at 0x7f01c524b490>,\n",
              "  <matplotlib.axes._subplots.AxesSubplot at 0x7f01c52087d0>,\n",
              "  <matplotlib.axes._subplots.AxesSubplot at 0x7f01c51c1b10>,\n",
              "  <matplotlib.axes._subplots.AxesSubplot at 0x7f01c517ae50>,\n",
              "  <matplotlib.axes._subplots.AxesSubplot at 0x7f01c513e1d0>,\n",
              "  <matplotlib.axes._subplots.AxesSubplot at 0x7f01c50f6590>,\n",
              "  <matplotlib.axes._subplots.AxesSubplot at 0x7f01c50b0810>,\n",
              "  <matplotlib.axes._subplots.AxesSubplot at 0x7f01c50b0850>,\n",
              "  <matplotlib.axes._subplots.AxesSubplot at 0x7f01c5067c90>,\n",
              "  <matplotlib.axes._subplots.AxesSubplot at 0x7f01c4fe62d0>,\n",
              "  <matplotlib.axes._subplots.AxesSubplot at 0x7f01c4f9e610>,\n",
              "  <matplotlib.axes._subplots.AxesSubplot at 0x7f01c4fd5950>,\n",
              "  <matplotlib.axes._subplots.AxesSubplot at 0x7f01c4f8fc90>,\n",
              "  <matplotlib.axes._subplots.AxesSubplot at 0x7f01c4f3cb10>,\n",
              "  <matplotlib.axes._subplots.AxesSubplot at 0x7f01c4f0d350>,\n",
              "  <matplotlib.axes._subplots.AxesSubplot at 0x7f01c4ec6690>,\n",
              "  <matplotlib.axes._subplots.AxesSubplot at 0x7f01c4e7e9d0>,\n",
              "  <matplotlib.axes._subplots.AxesSubplot at 0x7f01c4e37d10>,\n",
              "  <matplotlib.axes._subplots.AxesSubplot at 0x7f01c4de4b90>,\n",
              "  <matplotlib.axes._subplots.AxesSubplot at 0x7f01c4db43d0>])"
            ]
          },
          "metadata": {},
          "execution_count": 15
        },
        {
          "output_type": "display_data",
          "data": {
            "text/plain": [
              "<Figure size 432x288 with 21 Axes>"
            ],
            "image/png": "[encoded data removed]"
          },
          "metadata": {}
        }
      ]
    },
    {
      "cell_type": "markdown",
      "source": [
        "**Q5** Please use groupby function on Home Team Initials to see the sum of Home Team Goals which can be saved to another data frame by adding .reset_index() end the end of your line. \n",
        "\n",
        "Then use your new data frame to visualize those total Home Team Goals for your top 5 countries (You can use Home Team Initials). You can use use df.sort_values() function on your data frame by tweaking the ascending option.\n",
        "\n",
        "Notice that your x-axis will be having country initials, and y-axis will show the total number of Home Team Goals. \n",
        "\n"
      ],
      "metadata": {
        "id": "qAI2uZbpeuj_"
      }
    },
    {
      "cell_type": "code",
      "source": [
        "from seaborn.categorical import barplot\n",
        "homedf = df.groupby([\"Home Team Initials\"])[\"Away Team Goals\", \"Home Team Goals\"].sum().reset_index()\n",
        "homedf\n",
        "#sortedfive = homedf.sort_values(by=\"Home Team Goals\", ascending = False).head(5)\n",
        "\n",
        "#barplot(data = sortedfive, x = \"Home Team Initials\", y = \"Home Team Goals\")\n",
        "\n"
      ],
      "metadata": {
        "colab": {
          "base_uri": "https://localhost:8080/",
          "height": 460
        },
        "id": "f-Q5jsyTF1ik",
        "outputId": "4b6bd5fe-9b1f-4cfc-b0fa-6cfeeda290b7"
      },
      "execution_count": 97,
      "outputs": [
        {
          "output_type": "stream",
          "name": "stderr",
          "text": [
            "/usr/local/lib/python3.7/dist-packages/ipykernel_launcher.py:2: FutureWarning: Indexing with multiple keys (implicitly converted to a tuple of keys) will be deprecated, use a list instead.\n",
            "  \n"
          ]
        },
        {
          "output_type": "execute_result",
          "data": {
            "text/plain": [
              "   Home Team Initials  Away Team Goals  Home Team Goals\n",
              "0                 ALG               10                5\n",
              "1                 ANG                1                0\n",
              "2                 ARG               44              111\n",
              "3                 AUS               11                7\n",
              "4                 AUT               17               31\n",
              "..                ...              ...              ...\n",
              "72                URU               29               62\n",
              "73                USA               21               19\n",
              "74                WAL                1                2\n",
              "75                YUG                9               42\n",
              "76                ZAI                5                0\n",
              "\n",
              "[77 rows x 3 columns]"
            ],
            "text/html": [
              "\n",
              "  <div id=\"df-626f8b78-4657-4924-8350-93b8a3f166c2\">\n",
              "    <div class=\"colab-df-container\">\n",
              "      <div>\n",
              "<style scoped>\n",
              "    .dataframe tbody tr th:only-of-type {\n",
              "        vertical-align: middle;\n",
              "    }\n",
              "\n",
              "    .dataframe tbody tr th {\n",
              "        vertical-align: top;\n",
              "    }\n",
              "\n",
              "    .dataframe thead th {\n",
              "        text-align: right;\n",
              "    }\n",
              "</style>\n",
              "<table border=\"1\" class=\"dataframe\">\n",
              "  <thead>\n",
              "    <tr style=\"text-align: right;\">\n",
              "      <th></th>\n",
              "      <th>Home Team Initials</th>\n",
              "      <th>Away Team Goals</th>\n",
              "      <th>Home Team Goals</th>\n",
              "    </tr>\n",
              "  </thead>\n",
              "  <tbody>\n",
              "    <tr>\n",
              "      <th>0</th>\n",
              "      <td>ALG</td>\n",
              "      <td>10</td>\n",
              "      <td>5</td>\n",
              "    </tr>\n",
              "    <tr>\n",
              "      <th>1</th>\n",
              "      <td>ANG</td>\n",
              "      <td>1</td>\n",
              "      <td>0</td>\n",
              "    </tr>\n",
              "    <tr>\n",
              "      <th>2</th>\n",
              "      <td>ARG</td>\n",
              "      <td>44</td>\n",
              "      <td>111</td>\n",
              "    </tr>\n",
              "    <tr>\n",
              "      <th>3</th>\n",
              "      <td>AUS</td>\n",
              "      <td>11</td>\n",
              "      <td>7</td>\n",
              "    </tr>\n",
              "    <tr>\n",
              "      <th>4</th>\n",
              "      <td>AUT</td>\n",
              "      <td>17</td>\n",
              "      <td>31</td>\n",
              "    </tr>\n",
              "    <tr>\n",
              "      <th>...</th>\n",
              "      <td>...</td>\n",
              "      <td>...</td>\n",
              "      <td>...</td>\n",
              "    </tr>\n",
              "    <tr>\n",
              "      <th>72</th>\n",
              "      <td>URU</td>\n",
              "      <td>29</td>\n",
              "      <td>62</td>\n",
              "    </tr>\n",
              "    <tr>\n",
              "      <th>73</th>\n",
              "      <td>USA</td>\n",
              "      <td>21</td>\n",
              "      <td>19</td>\n",
              "    </tr>\n",
              "    <tr>\n",
              "      <th>74</th>\n",
              "      <td>WAL</td>\n",
              "      <td>1</td>\n",
              "      <td>2</td>\n",
              "    </tr>\n",
              "    <tr>\n",
              "      <th>75</th>\n",
              "      <td>YUG</td>\n",
              "      <td>9</td>\n",
              "      <td>42</td>\n",
              "    </tr>\n",
              "    <tr>\n",
              "      <th>76</th>\n",
              "      <td>ZAI</td>\n",
              "      <td>5</td>\n",
              "      <td>0</td>\n",
              "    </tr>\n",
              "  </tbody>\n",
              "</table>\n",
              "<p>77 rows × 3 columns</p>\n",
              "</div>\n",
              "      <button class=\"colab-df-convert\" onclick=\"convertToInteractive('df-626f8b78-4657-4924-8350-93b8a3f166c2')\"\n",
              "              title=\"Convert this dataframe to an interactive table.\"\n",
              "              style=\"display:none;\">\n",
              "        \n",
              "  <svg xmlns=\"http://www.w3.org/2000/svg\" height=\"24px\"viewBox=\"0 0 24 24\"\n",
              "       width=\"24px\">\n",
              "    <path d=\"M0 0h24v24H0V0z\" fill=\"none\"/>\n",
              "    <path d=\"M18.56 5.44l.94 2.06.94-2.06 2.06-.94-2.06-.94-.94-2.06-.94 2.06-2.06.94zm-11 1L8.5 8.5l.94-2.06 2.06-.94-2.06-.94L8.5 2.5l-.94 2.06-2.06.94zm10 10l.94 2.06.94-2.06 2.06-.94-2.06-.94-.94-2.06-.94 2.06-2.06.94z\"/><path d=\"M17.41 7.96l-1.37-1.37c-.4-.4-.92-.59-1.43-.59-.52 0-1.04.2-1.43.59L10.3 9.45l-7.72 7.72c-.78.78-.78 2.05 0 2.83L4 21.41c.39.39.9.59 1.41.59.51 0 1.02-.2 1.41-.59l7.78-7.78 2.81-2.81c.8-.78.8-2.07 0-2.86zM5.41 20L4 18.59l7.72-7.72 1.47 1.35L5.41 20z\"/>\n",
              "  </svg>\n",
              "      </button>\n",
              "      \n",
              "  <style>\n",
              "    .colab-df-container {\n",
              "      display:flex;\n",
              "      flex-wrap:wrap;\n",
              "      gap: 12px;\n",
              "    }\n",
              "\n",
              "    .colab-df-convert {\n",
              "      background-color: #E8F0FE;\n",
              "      border: none;\n",
              "      border-radius: 50%;\n",
              "      cursor: pointer;\n",
              "      display: none;\n",
              "      fill: #1967D2;\n",
              "      height: 32px;\n",
              "      padding: 0 0 0 0;\n",
              "      width: 32px;\n",
              "    }\n",
              "\n",
              "    .colab-df-convert:hover {\n",
              "      background-color: #E2EBFA;\n",
              "      box-shadow: 0px 1px 2px rgba(60, 64, 67, 0.3), 0px 1px 3px 1px rgba(60, 64, 67, 0.15);\n",
              "      fill: #174EA6;\n",
              "    }\n",
              "\n",
              "    [theme=dark] .colab-df-convert {\n",
              "      background-color: #3B4455;\n",
              "      fill: #D2E3FC;\n",
              "    }\n",
              "\n",
              "    [theme=dark] .colab-df-convert:hover {\n",
              "      background-color: #434B5C;\n",
              "      box-shadow: 0px 1px 3px 1px rgba(0, 0, 0, 0.15);\n",
              "      filter: drop-shadow(0px 1px 2px rgba(0, 0, 0, 0.3));\n",
              "      fill: #FFFFFF;\n",
              "    }\n",
              "  </style>\n",
              "\n",
              "      <script>\n",
              "        const buttonEl =\n",
              "          document.querySelector('#df-626f8b78-4657-4924-8350-93b8a3f166c2 button.colab-df-convert');\n",
              "        buttonEl.style.display =\n",
              "          google.colab.kernel.accessAllowed ? 'block' : 'none';\n",
              "\n",
              "        async function convertToInteractive(key) {\n",
              "          const element = document.querySelector('#df-626f8b78-4657-4924-8350-93b8a3f166c2');\n",
              "          const dataTable =\n",
              "            await google.colab.kernel.invokeFunction('convertToInteractive',\n",
              "                                                     [key], {});\n",
              "          if (!dataTable) return;\n",
              "\n",
              "          const docLinkHtml = 'Like what you see? Visit the ' +\n",
              "            '<a target=\"_blank\" href=https://colab.research.google.com/notebooks/data_table.ipynb>data table notebook</a>'\n",
              "            + ' to learn more about interactive tables.';\n",
              "          element.innerHTML = '';\n",
              "          dataTable['output_type'] = 'display_data';\n",
              "          await google.colab.output.renderOutput(dataTable, element);\n",
              "          const docLink = document.createElement('div');\n",
              "          docLink.innerHTML = docLinkHtml;\n",
              "          element.appendChild(docLink);\n",
              "        }\n",
              "      </script>\n",
              "    </div>\n",
              "  </div>\n",
              "  "
            ]
          },
          "metadata": {},
          "execution_count": 97
        }
      ]
    },
    {
      "cell_type": "markdown",
      "source": [
        "**Q6** Please extract the rows for your top 4 countries (Home Team Initials') with the help of the previous question's answer. Then use joyplot again to visualize densities for 'Home Team Goals' and\t'Away Team Goals' on the horizantal axis. Notice that your y-axis labels will be your country initials (Home Team Initials'). Make sure that your legend is visible and use 'dark_background' by calling plt.style.use again.\n",
        "\n"
      ],
      "metadata": {
        "id": "KFnCuhwPeyJB"
      }
    },
    {
      "cell_type": "code",
      "source": [
        "#omedf = df.groupby([\"Home Team Initials\"])[\"Away Team Goals\", \"Home Team Goals\"].sum().reset_index()\n",
        "#homedf\n",
        "\n",
        "#I cannot get this to work no matter what way I try..\n",
        "\n",
        "homedfslice = homedf.iloc[6:12,:]\n",
        "homedfslice\n",
        "#plt.style.use(\"dark_background\")\n",
        "#Sofia_Grades = Report_Card.iloc[6:12,2:]\n",
        "jp.joyplot(data=homedfslice, by=\"Home Team Initials\", column=[\"Home Team Goals\", \"Away Team Goals\"] , legend=True)\n",
        "#f.loc[:, 'foo':'sat']\n"
      ],
      "metadata": {
        "colab": {
          "base_uri": "https://localhost:8080/",
          "height": 445
        },
        "id": "O7Ty3KdGcKne",
        "outputId": "1c4dc911-e4fa-49a1-8e5d-495ebad08d39"
      },
      "execution_count": 94,
      "outputs": [
        {
          "output_type": "execute_result",
          "data": {
            "text/plain": [
              "(<Figure size 432x288 with 7 Axes>,\n",
              " [<matplotlib.axes._subplots.AxesSubplot at 0x7f01bfc19150>,\n",
              "  <matplotlib.axes._subplots.AxesSubplot at 0x7f01bfc41810>,\n",
              "  <matplotlib.axes._subplots.AxesSubplot at 0x7f01bfbbe390>,\n",
              "  <matplotlib.axes._subplots.AxesSubplot at 0x7f01bfb75710>,\n",
              "  <matplotlib.axes._subplots.AxesSubplot at 0x7f01bfb2ba90>,\n",
              "  <matplotlib.axes._subplots.AxesSubplot at 0x7f01bfae3e10>,\n",
              "  <matplotlib.axes._subplots.AxesSubplot at 0x7f01bfc19590>])"
            ]
          },
          "metadata": {},
          "execution_count": 94
        },
        {
          "output_type": "display_data",
          "data": {
            "text/plain": [
              "<Figure size 432x288 with 7 Axes>"
            ],
            "image/png": "[encoded data removed]"
          },
          "metadata": {}
        }
      ]
    },
    {
      "cell_type": "markdown",
      "source": [
        "**Q7** Please install seaborn_qqplot as shown below. Then draw a qqplot to compare probability distributions of Home Team Goals and Away Team Goals. Please comment on your finding. Do you think their distributions agree with each other? Please justify your answer by explaining the figure you obtained."
      ],
      "metadata": {
        "id": "e8q7WfC6e1Uu"
      }
    },
    {
      "cell_type": "code",
      "source": [
        "!pip install seaborn_qqplot"
      ],
      "metadata": {
        "colab": {
          "base_uri": "https://localhost:8080/"
        },
        "id": "anDZZYZpdvqg",
        "outputId": "8a5b4f08-cca3-4412-a8d6-c2bd50405f78"
      },
      "execution_count": 95,
      "outputs": [
        {
          "output_type": "stream",
          "name": "stdout",
          "text": [
            "Looking in indexes: https://pypi.org/simple, https://us-python.pkg.dev/colab-wheels/public/simple/\n",
            "Collecting seaborn_qqplot\n",
            "  Downloading seaborn_qqplot-0.5.0-py3-none-any.whl (12 kB)\n",
            "Requirement already satisfied: scipy in /usr/local/lib/python3.7/dist-packages (from seaborn_qqplot) (1.7.3)\n",
            "Requirement already satisfied: pandas in /usr/local/lib/python3.7/dist-packages (from seaborn_qqplot) (1.3.5)\n",
            "Requirement already satisfied: seaborn in /usr/local/lib/python3.7/dist-packages (from seaborn_qqplot) (0.11.2)\n",
            "Requirement already satisfied: tabulate in /usr/local/lib/python3.7/dist-packages (from seaborn_qqplot) (0.8.10)\n",
            "Requirement already satisfied: pytz>=2017.3 in /usr/local/lib/python3.7/dist-packages (from pandas->seaborn_qqplot) (2022.1)\n",
            "Requirement already satisfied: numpy>=1.17.3 in /usr/local/lib/python3.7/dist-packages (from pandas->seaborn_qqplot) (1.21.6)\n",
            "Requirement already satisfied: python-dateutil>=2.7.3 in /usr/local/lib/python3.7/dist-packages (from pandas->seaborn_qqplot) (2.8.2)\n",
            "Requirement already satisfied: six>=1.5 in /usr/local/lib/python3.7/dist-packages (from python-dateutil>=2.7.3->pandas->seaborn_qqplot) (1.15.0)\n",
            "Requirement already satisfied: matplotlib>=2.2 in /usr/local/lib/python3.7/dist-packages (from seaborn->seaborn_qqplot) (3.2.2)\n",
            "Requirement already satisfied: cycler>=0.10 in /usr/local/lib/python3.7/dist-packages (from matplotlib>=2.2->seaborn->seaborn_qqplot) (0.11.0)\n",
            "Requirement already satisfied: kiwisolver>=1.0.1 in /usr/local/lib/python3.7/dist-packages (from matplotlib>=2.2->seaborn->seaborn_qqplot) (1.4.4)\n",
            "Requirement already satisfied: pyparsing!=2.0.4,!=2.1.2,!=2.1.6,>=2.0.1 in /usr/local/lib/python3.7/dist-packages (from matplotlib>=2.2->seaborn->seaborn_qqplot) (3.0.9)\n",
            "Requirement already satisfied: typing-extensions in /usr/local/lib/python3.7/dist-packages (from kiwisolver>=1.0.1->matplotlib>=2.2->seaborn->seaborn_qqplot) (4.1.1)\n",
            "Installing collected packages: seaborn-qqplot\n",
            "Successfully installed seaborn-qqplot-0.5.0\n"
          ]
        }
      ]
    },
    {
      "cell_type": "code",
      "source": [
        "from seaborn_qqplot import pplot #seaborn-qqplot is a seaborn extension adding qqplots.\n",
        "plt.style.use('ggplot') #this is to change the color theme. \n",
        "\n",
        "homedf\n",
        "pplot(homedf, x=\"Home Team Goals\", y=\"Away Team Goals\", height=5)\n"
      ],
      "metadata": {
        "colab": {
          "base_uri": "https://localhost:8080/",
          "height": 388
        },
        "id": "lg8S7L2idz45",
        "outputId": "b5fd5aff-11f9-4873-e43c-52d4faeedf86"
      },
      "execution_count": 103,
      "outputs": [
        {
          "output_type": "execute_result",
          "data": {
            "text/plain": [
              "<seaborn.axisgrid.PairGrid at 0x7f01bf998390>"
            ]
          },
          "metadata": {},
          "execution_count": 103
        },
        {
          "output_type": "display_data",
          "data": {
            "text/plain": [
              "<Figure size 360x360 with 1 Axes>"
            ],
            "image/png": "[encoded data removed]"
          },
          "metadata": {}
        }
      ]
    },
    {
      "cell_type": "markdown",
      "source": [
        "The figures agree with each other more toward the low range of 5 as those are overlaps. As the number of goals increase the overlap fades "
      ],
      "metadata": {
        "id": "4fhKCaCDPoG3"
      }
    }
  ]
}